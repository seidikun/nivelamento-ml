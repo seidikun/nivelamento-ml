{
  "nbformat": 4,
  "nbformat_minor": 0,
  "metadata": {
    "colab": {
      "provenance": [],
      "authorship_tag": "ABX9TyPWb+MxiRV/+5C9TCB2P+o8",
      "include_colab_link": true
    },
    "kernelspec": {
      "name": "python3",
      "display_name": "Python 3"
    },
    "language_info": {
      "name": "python"
    }
  },
  "cells": [
    {
      "cell_type": "markdown",
      "metadata": {
        "id": "view-in-github",
        "colab_type": "text"
      },
      "source": [
        "<a href=\"https://colab.research.google.com/github/seidikun/nivelamento-ml/blob/main/Intensivo_Python_Aula_2_Estruturas_e_Fun%C3%A7%C3%B5es.ipynb\" target=\"_parent\"><img src=\"https://colab.research.google.com/assets/colab-badge.svg\" alt=\"Open In Colab\"/></a>"
      ]
    },
    {
      "cell_type": "markdown",
      "source": [
        "# Intensivo Python Aula 2 - Estruturas e Funções"
      ],
      "metadata": {
        "id": "LHO1Xqj3YQGD"
      }
    },
    {
      "cell_type": "markdown",
      "source": [
        "Responsáveis: Liohana"
      ],
      "metadata": {
        "id": "s3CQe06VYppZ"
      }
    },
    {
      "cell_type": "code",
      "execution_count": null,
      "metadata": {
        "id": "IKGqwQZt8JJn"
      },
      "outputs": [],
      "source": []
    },
    {
      "cell_type": "markdown",
      "source": [
        "## Sumário\n",
        "\n",
        "Nesta aula, vamos ver os seguintes tópicos:\n",
        "\n",
        "\n",
        "*   Estrutura em linguagem python\n",
        "  * Lista\n",
        "  * Tupla\n",
        "  * Dicionário\n",
        "  * Conjunto\n",
        "*   Funções\n",
        "\n"
      ],
      "metadata": {
        "id": "t9JbkftMYU6C"
      }
    },
    {
      "cell_type": "markdown",
      "source": [
        "## Estruturas"
      ],
      "metadata": {
        "id": "hwL2ogQRYlKy"
      }
    },
    {
      "cell_type": "code",
      "source": [],
      "metadata": {
        "id": "6euWt0jFYV15"
      },
      "execution_count": null,
      "outputs": []
    },
    {
      "cell_type": "markdown",
      "source": [
        "## Funções"
      ],
      "metadata": {
        "id": "EunLoZ6PYnPZ"
      }
    },
    {
      "cell_type": "code",
      "source": [],
      "metadata": {
        "id": "UDVQdIhLYoFZ"
      },
      "execution_count": null,
      "outputs": []
    }
  ]
}
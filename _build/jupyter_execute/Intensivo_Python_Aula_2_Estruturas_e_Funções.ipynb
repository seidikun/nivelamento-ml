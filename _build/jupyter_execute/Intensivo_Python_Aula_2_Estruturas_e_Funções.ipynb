{
 "cells": [
  {
   "cell_type": "markdown",
   "metadata": {
    "colab_type": "text",
    "id": "view-in-github"
   },
   "source": [
    "<a href=\"https://colab.research.google.com/github/seidikun/nivelamento-ml/blob/main/Intensivo_Python_Aula_2_Estruturas_e_Fun%C3%A7%C3%B5es.ipynb\" target=\"_parent\"><img src=\"https://colab.research.google.com/assets/colab-badge.svg\" alt=\"Open In Colab\"/></a>"
   ]
  },
  {
   "cell_type": "markdown",
   "metadata": {
    "id": "LHO1Xqj3YQGD"
   },
   "source": [
    "# Intensivo Python Aula 2 - Estruturas e Funções"
   ]
  },
  {
   "cell_type": "markdown",
   "metadata": {
    "id": "s3CQe06VYppZ"
   },
   "source": [
    "Responsáveis: Liohana"
   ]
  },
  {
   "cell_type": "code",
   "execution_count": null,
   "metadata": {
    "id": "IKGqwQZt8JJn"
   },
   "outputs": [],
   "source": []
  },
  {
   "cell_type": "markdown",
   "metadata": {
    "id": "t9JbkftMYU6C"
   },
   "source": [
    "## Sumário\n",
    "\n",
    "Nesta aula, vamos ver os seguintes tópicos:\n",
    "\n",
    "\n",
    "*   Estrutura em linguagem python\n",
    "  * Lista\n",
    "  * Tupla\n",
    "  * Dicionário\n",
    "  * Conjunto\n",
    "*   Funções\n",
    "\n"
   ]
  },
  {
   "cell_type": "markdown",
   "metadata": {
    "id": "hwL2ogQRYlKy"
   },
   "source": [
    "## Estruturas"
   ]
  },
  {
   "cell_type": "code",
   "execution_count": null,
   "metadata": {
    "id": "6euWt0jFYV15"
   },
   "outputs": [],
   "source": []
  },
  {
   "cell_type": "markdown",
   "metadata": {
    "id": "EunLoZ6PYnPZ"
   },
   "source": [
    "## Funções"
   ]
  },
  {
   "cell_type": "code",
   "execution_count": null,
   "metadata": {
    "id": "UDVQdIhLYoFZ"
   },
   "outputs": [],
   "source": []
  }
 ],
 "metadata": {
  "colab": {
   "authorship_tag": "ABX9TyPWb+MxiRV/+5C9TCB2P+o8",
   "include_colab_link": true,
   "provenance": []
  },
  "kernelspec": {
   "display_name": "Python 3",
   "name": "python3"
  },
  "language_info": {
   "codemirror_mode": {
    "name": "ipython",
    "version": 3
   },
   "file_extension": ".py",
   "mimetype": "text/x-python",
   "name": "python",
   "nbconvert_exporter": "python",
   "pygments_lexer": "ipython3",
   "version": "3.11.4"
  }
 },
 "nbformat": 4,
 "nbformat_minor": 0
}